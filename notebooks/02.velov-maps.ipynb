{
 "cells": [
  {
   "cell_type": "markdown",
   "metadata": {},
   "source": [
    "![lyon2 geonum](https://perso.liris.cnrs.fr/lmoncla/GEONUM/fig/logos.png)\n",
    "\n",
    "# 2A3 – Modélisation et structuration de données géographiques et applications SGBD spatiaux\n",
    "\n",
    "\n",
    "## Tutoriel : Analyse des données des disponibilités des stations Vélo'v de la Métropole de Lyon\n",
    "\n",
    "\n",
    "# Partie 2 : Analyse et visualisation des données\n",
    "\n",
    "\n",
    "Dans le cadre de ce TP,  vous avez à votre disposition l'ensemble des données pour l'année 2021.\n",
    "\n",
    "\n",
    "Les objectifs de cette partie sont les suivants : \n",
    "\n",
    "* Analyser les données : requêter le jeu de données pour générer des graphiques, des cartes et des cartes animées.\n",
    "\n"
   ]
  },
  {
   "cell_type": "markdown",
   "metadata": {},
   "source": [
    "## 1. Importation des libraries"
   ]
  },
  {
   "cell_type": "code",
   "execution_count": null,
   "metadata": {},
   "outputs": [],
   "source": [
    "import pandas as pd\n",
    "import numpy as np\n",
    "import matplotlib.pyplot as plt\n",
    "from datetime import datetime, timezone\n",
    "\n",
    "import folium\n",
    "import plotly\n",
    "import plotly.express as px\n",
    "import geopandas"
   ]
  },
  {
   "cell_type": "markdown",
   "metadata": {},
   "source": [
    "## 2. Récupération du jeu de données\n",
    "\n",
    "Dans un premier temps il faut récupérer les données. D'un côté le jeu de données contenant les localisations des stations et de l'autre l'historique d'utilisation. Le second a été modifié lors de la précédente séance. Pour ne pas avoir à refaire tous les traitements vous pouvez récupérer directement l'archive `data-bikes-2.zip`.\n",
    "\n",
    "L'ensemble des données utilisées dans ce tutoriel est disponible à cette adresse : \n",
    "https://perso.liris.cnrs.fr/lmoncla/GEONUM/\n",
    "\n",
    "* Télécharger les archives contenant les données\n",
    "1. data-stations.zip\n",
    "2. data-bikes-2.zip\n",
    "\n",
    "Ces 2 archives contiennent chacune un fichier CSV contenant respectivement la liste des stations vélov (et leur localisation) et la liste des disponibilités de chaque station par tranche de 30 minutes.\n"
   ]
  },
  {
   "cell_type": "code",
   "execution_count": null,
   "metadata": {},
   "outputs": [],
   "source": [
    "## On commence par créer un dossier dans lequel on va télécharger les données\n",
    "## Peut être fait directement depuis l'explorateur de fichiers\n",
    "!mkdir data"
   ]
  },
  {
   "cell_type": "code",
   "execution_count": null,
   "metadata": {},
   "outputs": [],
   "source": [
    "## on se déplace dans le nouveau dossier\n",
    "%cd data"
   ]
  },
  {
   "cell_type": "code",
   "execution_count": null,
   "metadata": {},
   "outputs": [],
   "source": [
    "## On télécharge l'archive contenant la liste des stations\n",
    "!wget https://perso.liris.cnrs.fr/lmoncla/GEONUM/data-stations.zip\n",
    "    \n",
    "## On télécharge l'archive contenant la liste des disponibilité des stations par tranche de 5 minutes\n",
    "!wget https://perso.liris.cnrs.fr/lmoncla/GEONUM/data-bikes-2.zip"
   ]
  },
  {
   "cell_type": "markdown",
   "metadata": {},
   "source": [
    "### 2.1. Chargement des données\n",
    "\n",
    "Comme la dernière fois, pour charger les données il suffit d'utiliser la méthode [read_csv()](https://pandas.pydata.org/pandas-docs/stable/reference/api/pandas.read_csv.html#pandas.read_csv) de la librairie `Pandas`. Elle prend en paramètre le chemin du fichier que l'on souhaite charger. Ce fichier peut être de 2 formats, soit directement un fichier CSV, soit un fichier ZIP contenant un CSV. Dans notre, cas il est donc inutile de dézipper les archives téléchargées précédemment.\n"
   ]
  },
  {
   "cell_type": "code",
   "execution_count": null,
   "metadata": {
    "tags": []
   },
   "outputs": [],
   "source": [
    "## On charge les données des stations dans un dataframe\n",
    "df_stations = pd.read_csv('data-stations.zip')\n",
    "\n",
    "## On crée maintenant le dataframe avec les données d'historique\n",
    "df_bikes = pd.read_csv('data-bikes-2.zip')"
   ]
  },
  {
   "cell_type": "code",
   "execution_count": null,
   "metadata": {},
   "outputs": [],
   "source": [
    "## On affiche les premières lignes\n",
    "df_stations.head()"
   ]
  },
  {
   "cell_type": "code",
   "execution_count": null,
   "metadata": {},
   "outputs": [],
   "source": [
    "## On affiche les premières lignes\n",
    "df_bikes.head()"
   ]
  },
  {
   "cell_type": "markdown",
   "metadata": {},
   "source": [
    "### 2.2. Premier apercu des données d'historique"
   ]
  },
  {
   "cell_type": "code",
   "execution_count": null,
   "metadata": {},
   "outputs": [],
   "source": [
    "## On affiche les information sur les données\n",
    "df_bikes.info()"
   ]
  },
  {
   "cell_type": "code",
   "execution_count": null,
   "metadata": {},
   "outputs": [],
   "source": [
    "# Réduction de la taille en mémoire\n",
    "\n",
    "## on transforme le type des colonnes en entier ou float lorsque cela est nécessaire\n",
    "df_bikes[['year', 'daily_departure', 'daily_arrival']] = df_bikes[['year', 'daily_departure', 'daily_arrival']].astype('int16')\n",
    "df_bikes[['month','day','hour','minute', 'bikes', 'bike_stands', 'departure30min','arrival30min']] = df_bikes[['month','day','hour','minute', 'bikes', 'bike_stands', 'departure30min','arrival30min']].astype('int8')\n"
   ]
  },
  {
   "cell_type": "code",
   "execution_count": null,
   "metadata": {},
   "outputs": [],
   "source": [
    "## On affiche les information sur les données\n",
    "df_bikes.info()"
   ]
  },
  {
   "cell_type": "markdown",
   "metadata": {},
   "source": [
    "## 3. Interrogation et visualisation des données\n",
    "\n",
    "Lors de la précédente séance, nous avons vu comment préparer et manipuler les données. Nous pouvons maintenant se concentrer sur l'interrogation et la visualisation des données."
   ]
  },
  {
   "cell_type": "code",
   "execution_count": null,
   "metadata": {},
   "outputs": [],
   "source": [
    "## On commence par faire une copie de notre DataFrame, pour pouvoir revenir aux données initiales si besoin\n",
    "df_sampled = df_bikes.copy()"
   ]
  },
  {
   "cell_type": "markdown",
   "metadata": {},
   "source": [
    "### 3.1 Graphiques (dimension temporelle)\n",
    "\n",
    "Dans le but d'obtenir une première répartition des données, on souhaite afficher sur un graphique la somme cumulée des départs (ou arrivées) en fonction des heures de la journée (par tranche de 30 minutes).\n",
    "\n",
    "#### 3.1.1 Affichage des départs et arrivées (somme cumulée)"
   ]
  },
  {
   "cell_type": "code",
   "execution_count": null,
   "metadata": {},
   "outputs": [],
   "source": [
    "## On groupe les lignes du dataframe selon les colonnes 'hour' et 'minute'\n",
    "## et on somme les valeurs de la colonne 'departure30min'\n",
    "values_departure = df_sampled.groupby(['hour', 'minute'])['departure30min'].sum().values\n",
    "values_arrival = df_sampled.groupby(['hour', 'minute'])['arrival30min'].sum().values\n",
    "\n",
    "## On récupère la valeur max pour limiter l'axe des ordonnées\n",
    "y_max = max(max(values_departure), max(values_arrival))\n",
    "\n",
    "## On fixe les valeurs visibles de l'axe des abcisses\n",
    "## Les valeurs par défauts ne sont pas adaptées dans notre cas\n",
    "x_labels = [0,'','','','','',3,'','','','','',6,'','','','','',9,'','','','','',12,'','','','','',15,'','','','','',18,'','','','','',21,'','','','','']\n",
    "\n",
    "## On crée la figure qui contiendra les 2 graphiques (départs et arrivées) (on utilise la librairie matplotlib)\n",
    "fig = plt.figure(figsize=(12, 8))\n",
    "## On utilise la méthode subplot pour créer les 2 graphiques. \n",
    "## Subplot() prend 3 paramètres : nombre de lignes, de colonne, et numéro du plot\n",
    "plt.subplot(2,1,1)\n",
    "plt.bar(range(len(values_departure)), values_departure)\n",
    "plt.ylabel('départs')\n",
    "plt.xticks(range(len(values_departure)), x_labels, rotation='vertical')\n",
    "plt.ylim([0, y_max])\n",
    "plt.title('Somme cumulée des départs sur la période')\n",
    "\n",
    "## On crée le deuxième graphique\n",
    "plt.subplot(2,1,2)\n",
    "plt.bar(range(len(values_arrival)), values_arrival)\n",
    "plt.ylabel('arrivées')\n",
    "plt.xticks(range(len(values_arrival)), x_labels, rotation='vertical')\n",
    "plt.ylim([0, y_max])\n",
    "plt.title('Somme cumulée des arrivées sur la période')\n",
    "\n",
    "## On ajoute un espace entre les deux graphiques\n",
    "plt.subplots_adjust(hspace=0.5)\n",
    "\n",
    "## On affiche les graphiques\n",
    "plt.show()"
   ]
  },
  {
   "cell_type": "markdown",
   "metadata": {},
   "source": [
    "#### 3.1.2 Comparaison jours de semaine et weekend\n",
    "\n",
    "En reprenant le code précédent, proposez une solution permettant de comparer les jours de semaine et de weekend.\n"
   ]
  },
  {
   "cell_type": "code",
   "execution_count": null,
   "metadata": {},
   "outputs": [],
   "source": [
    "#**** A COMPLETER\n",
    "\n",
    "\n",
    "\n"
   ]
  },
  {
   "cell_type": "markdown",
   "metadata": {},
   "source": [
    "#### 3.1.3 Comparaison semaines vacances scolaire, hors vacances, confinement, été, etc...\n",
    "\n",
    "On souhaite maintenant faire une comparaison entre une semaine d'octobre (avant le 2ème confinement) une semaine de novembre (pendant le 2ème confinement) et une semaine en décembre ou janvier avec un couvre-feu à 18h. L'objectif est d'analyser si ces contraintes ont eu un effet sur la fréquentation des stations Vélo'v.\n",
    "\n",
    "semaine du 15 au 21 février : vacances scolaires\n",
    "semaine du 4 au 11 avril : couvre-feu + télétravail\n",
    "semaine du 2 au 8 août : été\n"
   ]
  },
  {
   "cell_type": "code",
   "execution_count": null,
   "metadata": {},
   "outputs": [],
   "source": [
    "#**** A COMPLETER\n",
    "\n",
    "\n",
    "\n"
   ]
  },
  {
   "cell_type": "markdown",
   "metadata": {},
   "source": [
    "Beaucoup d'autres analyses sont possibles comme par exemple, étudier l'impact de la météo (pluie, neige, température), d'une grève des transports, des vacances scolaires, des fêtes ou soirées de réveillon, etc.\n",
    "\n",
    "ex : neige 17 janvier 2021"
   ]
  },
  {
   "cell_type": "code",
   "execution_count": null,
   "metadata": {},
   "outputs": [],
   "source": [
    "#**** A COMPLETER\n",
    "\n",
    "\n",
    "\n"
   ]
  },
  {
   "cell_type": "markdown",
   "metadata": {},
   "source": [
    "#### 3.1.4 Départs cumulés par jour sur un mois"
   ]
  },
  {
   "cell_type": "code",
   "execution_count": null,
   "metadata": {},
   "outputs": [],
   "source": [
    "#**** A COMPLETER\n",
    "\n",
    "\n",
    "\n"
   ]
  },
  {
   "cell_type": "markdown",
   "metadata": {},
   "source": [
    "### 3.2 Cartes (dimension spatiale)"
   ]
  },
  {
   "cell_type": "markdown",
   "metadata": {},
   "source": [
    "Pour l'analyse de données géographiques il sera intéressant de les afficher sous forme de carte afin de pouvoir visualiser leur répartition et permettre une meilleure interprétation.\n",
    "\n",
    "Il existe plusieurs types de cartes que l'on peut générer en fonction du type d'information que l'on souhaite afficher."
   ]
  },
  {
   "cell_type": "markdown",
   "metadata": {},
   "source": [
    "#### 3.2.1 Heatmap ou carte de fréquentation\n",
    "\n",
    "Dans un premier temps on se propose de créer une carte de fréquentation (ou heatmap) représentant la densité de répartition des stations vélo'v."
   ]
  },
  {
   "cell_type": "code",
   "execution_count": null,
   "metadata": {},
   "outputs": [],
   "source": [
    "from folium.plugins import HeatMap\n",
    "\n",
    "# On initialise la carte avec la librairie Folium (centrée sur Lyon)\n",
    "Lyon = [45.76, 4.85]\n",
    "m = folium.Map(location=Lyon, zoom_start = 13) \n",
    "\n",
    "# On récupère la liste des coordonnées lat/lon des stations\n",
    "heat_data = ****\n",
    "\n",
    "# On appelle la fonction HeatMap de la librairie folium à partir de la liste des coordonnées et on l'ajoute à la carte\n",
    "HeatMap(heat_data).add_to(m)\n",
    "\n",
    "# On affiche la carte\n",
    "m"
   ]
  },
  {
   "cell_type": "markdown",
   "metadata": {},
   "source": [
    "Maintenant on souhaite créer une carte qui aurait plus de sens que simplement afficher la densité des localisations de stations. EN particulier, on souhaite afficher les densités localisées de départs en fonction des quartiers.\n",
    "\n",
    " "
   ]
  },
  {
   "cell_type": "markdown",
   "metadata": {},
   "source": [
    "#### 3.2.2 Afficher des géométries\n",
    "\n",
    "On souhaite maintenant pouvoir distinguer les différents quartiers de la métropole et obtenir un résultat comme sur l'image ci-dessous.\n",
    "\n",
    "![quartiers du grand lyon](https://perso.liris.cnrs.fr/lmoncla/GEONUM/fig/quartiers_lyon.png)\n",
    "\n",
    "Pour cela on va récupérer la géométries des différents quartiers de la métropole et les afficher sur la carte.\n",
    "On va expérimenter 2 méthodes d'affichage selon le format des géométries (GeoJSON vs Shapefile) : \n",
    "1. format GeoJSON affiché avec la libraie Folium\n",
    "2. format GeoJSON affiché avec GeoPandas et Plotly\n",
    "3. format Shapefile affiché avec GeoPandas et Plotly\n",
    "\n",
    "On télécharge les géométries (dans les 2 formats) des différents quartiers de la métropole (\n",
    "https://www.data.gouv.fr/fr/datasets/quartiers-des-communes-de-la-metropole-de-lyon/)\n",
    "\n",
    "\n"
   ]
  },
  {
   "cell_type": "code",
   "execution_count": null,
   "metadata": {
    "scrolled": true
   },
   "outputs": [],
   "source": [
    "## On télécharge les données \n",
    "!wget https://perso.liris.cnrs.fr/lmoncla/GEONUM/data-geom-quartiers-lyon.zip"
   ]
  },
  {
   "cell_type": "code",
   "execution_count": null,
   "metadata": {},
   "outputs": [],
   "source": [
    "import zipfile\n",
    "\n",
    "## dézipper l'archive (utilise la librairie zipfile)\n",
    "with zipfile.ZipFile(\"data-geom-quartiers-lyon.zip\",\"r\") as zip_ref:\n",
    "    zip_ref.extractall(\"./\")\n"
   ]
  },
  {
   "cell_type": "markdown",
   "metadata": {},
   "source": [
    "Cette archive contient 5 fichiers : \n",
    "1. adr_voie_lieu.adrquartier.dbf\n",
    "2. adr_voie_lieu.adrquartier.json\n",
    "3. adr_voie_lieu.adrquartier.prj\n",
    "4. adr_voie_lieu.adrquartier.shp\n",
    "5. adr_voie_lieu.adrquartier.shx\n",
    "\n",
    "\n",
    "Onn s'intéresse en particulier aux fichiers `.json` et `.shp`."
   ]
  },
  {
   "cell_type": "markdown",
   "metadata": {},
   "source": [
    "##### Format GeoJSON affiché avec la libraie Folium\n",
    "\n",
    " - Aidez-vous de la [documentation](https://python-visualization.github.io/folium/quickstart.html#GeoJSON/TopoJSON-Overlays) pour ajouter une couche geojson à votre carte."
   ]
  },
  {
   "cell_type": "code",
   "execution_count": null,
   "metadata": {},
   "outputs": [],
   "source": [
    "## On initialise le chemin vers le fichier geojson\n",
    "jsonfile = \"./data-geom-quartiers-lyon/adr_voie_lieu.adrquartier.json\"\n",
    "\n",
    "## On initialise la carte avec Folium\n",
    "m = folium.Map(location = Lyon, zoom_start = 12, tiles = \"CartoDB positron\")\n",
    "\n",
    "## On ajoute la couche geojson à partir de notre fichier qui contient les géométries des quartiers\n",
    "****\n",
    "\n",
    "\n",
    "## On ajoute la couche de controle pour les interaction avec la carte\n",
    "folium.LayerControl().add_to(m)\n",
    "\n",
    "## On affiche la carte\n",
    "m"
   ]
  },
  {
   "cell_type": "markdown",
   "metadata": {},
   "source": [
    "##### Format GeoJSON affiché avec GeoPandas et Plotly"
   ]
  },
  {
   "cell_type": "code",
   "execution_count": null,
   "metadata": {},
   "outputs": [],
   "source": [
    "## On initialise le chemin vers le fichier geojson\n",
    "jsonfile = \"./data-geom-quartiers-lyon/adr_voie_lieu.adrquartier.json\"\n",
    "\n",
    "## On charge le fichier GeoJSON qui contient les géométries dans un geodataframe\n",
    "gdf_districts_json = geopandas.read_file(jsonfile)\n",
    "\n",
    "## On affiche les premières lignes\n",
    "gdf_districts_json.head()"
   ]
  },
  {
   "cell_type": "code",
   "execution_count": null,
   "metadata": {},
   "outputs": [],
   "source": [
    "## On initialise une carte avec la méthode choropleth_mapbox() de la librairie Plotly Express.\n",
    "## Se référer à la doc pour la description des paramètres\n",
    "## https://plotly.github.io/plotly.py-docs/generated/plotly.express.choropleth_mapbox.html\n",
    "\n",
    "fig = px.choropleth_mapbox(gdf_districts_json, \n",
    "                           geojson=gdf_districts_json, \n",
    "                           locations=gdf_districts_json.index, \n",
    "                           mapbox_style=\"carto-positron\",\n",
    "                           zoom=12, center = {\"lat\": Lyon[0], \"lon\": Lyon[1]},\n",
    "                           opacity=0.5\n",
    "                          )\n",
    "\n",
    "## On supprime les marges\n",
    "fig.update_layout(margin={\"r\":0,\"t\":0,\"l\":0,\"b\":0})\n",
    "\n",
    "## On affiche la carte\n",
    "fig.show()\n"
   ]
  },
  {
   "cell_type": "markdown",
   "metadata": {},
   "source": [
    "##### Format Shapefile affiché avec GeoPandas et Plotly\n",
    "\n",
    "La librairie [GeoPandas](https://geopandas.org/io.html) peut charger la plupart des formats de données spatiales grâce à la méthode `read_file()`"
   ]
  },
  {
   "cell_type": "code",
   "execution_count": null,
   "metadata": {
    "scrolled": true
   },
   "outputs": [],
   "source": [
    "## On initialise le chemin vers le fichier shape\n",
    "shpfile = \"./data-geom-quartiers-lyon/adr_voie_lieu.adrquartier.shp\"\n",
    "\n",
    "## On charge directement les données du shapefile dans un geodataframe\n",
    "gdf_districts_shp = geopandas.read_file(shpfile)\n",
    "   \n",
    "## On affiche les premières lignes\n",
    "gdf_districts_shp.head()"
   ]
  },
  {
   "cell_type": "code",
   "execution_count": null,
   "metadata": {},
   "outputs": [],
   "source": [
    "## On compare avec le geodataframe chargé à partir du JSON\n",
    "gdf_districts_json.head()"
   ]
  },
  {
   "cell_type": "code",
   "execution_count": null,
   "metadata": {},
   "outputs": [],
   "source": [
    "## Une fois les données dans le geodataframe on peut réutiliser directement le même code pour l'affichage\n",
    "\n",
    "## On initialise une carte avec la méthode choropleth_mapbox() de la librairie Plotly Express.\n",
    "## Se référer à la doc pour la description des paramètres\n",
    "## https://plotly.github.io/plotly.py-docs/generated/plotly.express.choropleth_mapbox.html\n",
    "\n",
    "fig = px.choropleth_mapbox(gdf_districts_shp, \n",
    "                           geojson=gdf_districts_shp, \n",
    "                           locations=gdf_districts_shp.index, \n",
    "                           mapbox_style=\"carto-positron\",\n",
    "                           zoom=12, center = {\"lat\": Lyon[0], \"lon\": Lyon[1]},\n",
    "                           opacity=0.5\n",
    "                          )\n",
    "\n",
    "## On supprime les marges\n",
    "fig.update_layout(margin={\"r\":0,\"t\":0,\"l\":0,\"b\":0})\n",
    "\n",
    "## On affiche la carte\n",
    "fig.show()"
   ]
  },
  {
   "cell_type": "markdown",
   "metadata": {},
   "source": [
    "#### 3.2.3 Carte thématique colorée (carte choroplèthe)\n",
    "\n",
    "Maintenant qu'on a récupéré et affiché les quartiers on souhaite ajouter des informations associées à ces quartiers. Pour commencer, on souhaite générer une carte où la couleur de chaque polygone dépend du nombre de stations présentes dans la zone.\n",
    "\n",
    "Pour cela, nous devons affecter à chaque station l'identifiant de la zone à laquelle elle appartient.\n",
    "\n",
    "On utilise la méthode contains() de la librairie GeoPandas https://geopandas.org/reference.html#geopandas.GeoSeries.contains afin d'associer l'id de la zone corresponte à chaque station."
   ]
  },
  {
   "cell_type": "code",
   "execution_count": null,
   "metadata": {},
   "outputs": [],
   "source": [
    "## On importe la fontion Point() de la librairie Shapely \n",
    "## qui permet de créer une variable de type Point à partir des coordonnées lat/lng\n",
    "from shapely.geometry import Point\n",
    "\n",
    "## On définit une fonction qui prent en paramètre la latitude et la longitude d'une station \n",
    "## et qui retourne l'identiant de la zone correspondante\n",
    "def get_gid(latitude, longitude):\n",
    "    \n",
    "    ## On crée un objet Point à partir des coordonnées\n",
    "    pt = Point(float(longitude),float(latitude))\n",
    "    \n",
    "    ## On filtre notre dataframe des géométries des quartiers \n",
    "    ## pour ne conserver que les géométries qui contiennent le point\n",
    "    zone_found = ****\n",
    "    \n",
    "    ## S'il y a au moins un quartier retourner par la requête alors la fonction retourne l'identifiant du premier\n",
    "    if len(zone_found) > 0:\n",
    "        return str(zone_found.iloc[0].gid)\n",
    "    \n",
    "    return None"
   ]
  },
  {
   "cell_type": "code",
   "execution_count": null,
   "metadata": {},
   "outputs": [],
   "source": [
    "df_stations.head()"
   ]
  },
  {
   "cell_type": "code",
   "execution_count": null,
   "metadata": {},
   "outputs": [],
   "source": [
    "## On ajoute une colonne avec le gid de la zone à notre dataframe de stations\n",
    "df_stations['gid'] = df_stations.apply(lambda row : get_gid(row.latitude, row.longitude), axis=1)\n",
    "\n",
    "## On affiche les premières lignes pour vérifier l'ajout de la colonne\n",
    "df_stations.head()"
   ]
  },
  {
   "cell_type": "code",
   "execution_count": null,
   "metadata": {},
   "outputs": [],
   "source": [
    "## Maintenant on veut regrouper les stations par zone\n",
    "## et récupérer pour chaque zone, le nombre de stations qu'elle contient\n",
    "nb_stations_per_zone = ****\n",
    "\n",
    "nb_stations_per_zone.head()"
   ]
  },
  {
   "cell_type": "markdown",
   "metadata": {},
   "source": [
    "Il reste à afficher ces données sous forme de carte choropleth. Inspirez-vous du code précédent. Référez-vous à la [documentation](https://plotly.github.io/plotly.py-docs/generated/plotly.express.choropleth_mapbox.html) pour savoir quels paramètres modifier ou ajouter."
   ]
  },
  {
   "cell_type": "code",
   "execution_count": null,
   "metadata": {},
   "outputs": [],
   "source": [
    "# A COMPLETER\n",
    "\n",
    "\n",
    "\n",
    "\n"
   ]
  },
  {
   "cell_type": "markdown",
   "metadata": {},
   "source": [
    "# Exercices\n",
    "\n",
    "## A.1 Carte thématique présentant le nombre de départs\n",
    "\n",
    "On souhaite reproduire le même type de carte que précédemment mais cette fois-ci plutot que de simplement afficher le nombre de stations, on souhaite afficher le nombre de départs cumulé pour les stations de chaque quartier.\n",
    "\n",
    "\n",
    "Le problème est que nous n'avons pas les latitudes et longitudes dans le dataframe des historiques. Il faut donc d'abord faire une [jointure](https://pandas.pydata.org/pandas-docs/stable/reference/api/pandas.DataFrame.merge.html) entre nos 2 dataframes pour associer à chaque ligne de l'historique la localisation de la station considérée.\n",
    "\n"
   ]
  },
  {
   "cell_type": "code",
   "execution_count": null,
   "metadata": {},
   "outputs": [],
   "source": [
    "## On fait la jointure entre nos 2 dataframes\n",
    "df_hist_merged = ****\n"
   ]
  },
  {
   "cell_type": "code",
   "execution_count": null,
   "metadata": {},
   "outputs": [],
   "source": [
    "df_hist_merged.head()"
   ]
  },
  {
   "cell_type": "code",
   "execution_count": null,
   "metadata": {},
   "outputs": [],
   "source": [
    "## on calcul la somme des départs de chaque zone pour chaque pas de 30 minutes (pour l'ensemble de la période considérée)\n",
    "df_hist_sum = pd.DataFrame(df_hist_merged.groupby([****])['departure30min'].sum().reset_index(name = \"sum\"))\n",
    "\n",
    "## On crée maintenant la carte thématique\n",
    "## A COMPLETER\n",
    "\n",
    "\n",
    "\n",
    "\n"
   ]
  },
  {
   "cell_type": "markdown",
   "metadata": {},
   "source": [
    "\n"
   ]
  },
  {
   "cell_type": "markdown",
   "metadata": {},
   "source": [
    "## A.2 Carte thématique présentant le nombre d'arrivées"
   ]
  },
  {
   "cell_type": "code",
   "execution_count": null,
   "metadata": {},
   "outputs": [],
   "source": [
    "## A COMPLETER\n",
    "\n",
    "\n"
   ]
  },
  {
   "cell_type": "markdown",
   "metadata": {},
   "source": [
    "## A.3 Carte thématique présentant le nombre de départs d'un jour de semaine"
   ]
  },
  {
   "cell_type": "code",
   "execution_count": null,
   "metadata": {},
   "outputs": [],
   "source": [
    "## A COMPLETER\n",
    "\n"
   ]
  },
  {
   "cell_type": "markdown",
   "metadata": {},
   "source": [
    "## A.4 Carte thématique présentant le nombre de départs d'un jour de weekend"
   ]
  },
  {
   "cell_type": "code",
   "execution_count": null,
   "metadata": {},
   "outputs": [],
   "source": [
    "## A COMPLETER\n",
    "\n"
   ]
  },
  {
   "cell_type": "markdown",
   "metadata": {},
   "source": [
    "## A.5 Carte thématique présentant le nombre de départs le matin (avant 12h)"
   ]
  },
  {
   "cell_type": "code",
   "execution_count": null,
   "metadata": {},
   "outputs": [],
   "source": [
    "## A COMPLETER\n",
    "\n",
    "\n"
   ]
  },
  {
   "cell_type": "markdown",
   "metadata": {},
   "source": [
    "## A.6 Carte thématique présentant le nombre de départs l'après-midi (après 12h)"
   ]
  },
  {
   "cell_type": "code",
   "execution_count": null,
   "metadata": {},
   "outputs": [],
   "source": [
    "## A COMPLETER\n",
    "\n",
    "\n"
   ]
  },
  {
   "cell_type": "markdown",
   "metadata": {},
   "source": [
    "## A.7 Questions\n",
    "\n",
    "1. Quelle est le quartier le plus fréquenté (nombre cumulé de départs le plus important) ?\n",
    "2. Est-ce que toutes les stations de ce quartier sont autant fréquentées ?\n",
    "- récupérer la géométrie du quartier (à partir de son id)\n",
    "- récupérer l'id des stations du quartier (inclusion dans la géométrie) # utiliser la méthode contains()\n",
    "- récupérer le nombre de départs de ces stations"
   ]
  },
  {
   "cell_type": "code",
   "execution_count": null,
   "metadata": {},
   "outputs": [],
   "source": []
  },
  {
   "cell_type": "markdown",
   "metadata": {},
   "source": [
    "### 3.3 Cartes animées (dimensions spatiale et temporelle)\n",
    "\n",
    "On souhaite maintenant pouvoir générer des cartes animées permettant de visuliser les dimensions spatiales et temporelles de manière dynamique.\n",
    "\n",
    "\n",
    "Aidez-vous de cet exemple : https://towardsdatascience.com/how-to-animate-scatterplots-on-mapbox-using-plotly-express-3bb49fe6a5d pour réaliser une carte animée à partir de l'historique des départs d'une journée.\n",
    "Vous pouvez également vous aidez des sources suivantes :\n",
    " - https://plotly.com/python/bubble-maps/\n",
    " - https://plotly.github.io/plotly.py-docs/generated/plotly.express.scatter_mapbox.html"
   ]
  },
  {
   "cell_type": "code",
   "execution_count": null,
   "metadata": {},
   "outputs": [],
   "source": [
    "## A COMPLETER\n",
    "\n",
    "\n",
    "\n",
    "\n",
    "\n"
   ]
  },
  {
   "cell_type": "markdown",
   "metadata": {},
   "source": [
    "## A.8 Exercice\n",
    "\n",
    "En reprenant le code précédent, faite une carte dynamique qui montrent les données cumulées par journée sur une période d'une semaine (weekend compris)."
   ]
  },
  {
   "cell_type": "code",
   "execution_count": null,
   "metadata": {},
   "outputs": [],
   "source": [
    "# A COMPLETER\n",
    "\n",
    "\n",
    "\n"
   ]
  },
  {
   "cell_type": "code",
   "execution_count": null,
   "metadata": {},
   "outputs": [],
   "source": []
  },
  {
   "cell_type": "code",
   "execution_count": null,
   "metadata": {},
   "outputs": [],
   "source": []
  },
  {
   "cell_type": "code",
   "execution_count": null,
   "metadata": {},
   "outputs": [],
   "source": []
  },
  {
   "cell_type": "markdown",
   "metadata": {},
   "source": [
    "### 3.4 Autres cartes avec Folium \n",
    "\n",
    "\n",
    "\n"
   ]
  },
  {
   "cell_type": "code",
   "execution_count": null,
   "metadata": {},
   "outputs": [],
   "source": [
    "df_hist_merged.head()"
   ]
  },
  {
   "cell_type": "code",
   "execution_count": null,
   "metadata": {},
   "outputs": [],
   "source": [
    "## On sélectionne une date spécifique\n",
    "\n",
    "date = datetime(2021, 12, 3, 10, 0, 0, 0, tzinfo=timezone.utc)\n",
    "print(date)\n",
    "df_tmp = df_hist_merged.loc[(df_hist_merged['time'] == date.isoformat(sep=' '))]"
   ]
  },
  {
   "cell_type": "code",
   "execution_count": null,
   "metadata": {
    "tags": []
   },
   "outputs": [],
   "source": [
    "df_tmp.head()"
   ]
  },
  {
   "cell_type": "code",
   "execution_count": null,
   "metadata": {},
   "outputs": [],
   "source": []
  },
  {
   "cell_type": "code",
   "execution_count": null,
   "metadata": {},
   "outputs": [],
   "source": [
    "def gen_map_dep_arr(df):\n",
    "\n",
    "    map = folium.Map(location = Lyon,\n",
    "                 zoom_start = 13, \n",
    "                 tiles = \"CartoDB positron\") # sombre : CartoDB dark_matter\n",
    "    \n",
    "    for index, row in df.iterrows():\n",
    "        \n",
    "        net_departure = row['departure30min'] - row['arrival30min']\n",
    "        \n",
    "        radius = np.abs(net_departure) \n",
    "        if np.isnan(radius):\n",
    "            radius = 1\n",
    "        radius *= 1.5\n",
    "        if radius == 0:\n",
    "            radius = 1\n",
    "            \n",
    "        if net_departure > 0:\n",
    "            color = '#fa294f' # red\n",
    "        elif net_departure < 0:\n",
    "            color = '#2e93f9' # blue\n",
    "        else:\n",
    "            color = '#646363' # grey\n",
    "            \n",
    "        lat = row['latitude']\n",
    "        lon = row['longitude']\n",
    "\n",
    "        folium.CircleMarker(location = [lat,lon], \n",
    "                            radius = int(radius), \n",
    "                            popup = row['id_velov'] + ' dep: ' + str(row['departure30min']) + ' arr: ' + str(row['arrival30min']), \n",
    "                            color = color, \n",
    "                            fill_opacity = 0.5).add_to(map)\n",
    "    return map"
   ]
  },
  {
   "cell_type": "code",
   "execution_count": null,
   "metadata": {},
   "outputs": [],
   "source": [
    "gen_map_dep_arr(df_hist_merged.loc[(df_sampled['time'] == datetime(2021, 12, 3, 8, 0, 0, 0, tzinfo=timezone.utc).isoformat(sep=' '))])\n"
   ]
  },
  {
   "cell_type": "code",
   "execution_count": null,
   "metadata": {},
   "outputs": [],
   "source": [
    "gen_map_dep_arr(df_hist_merged.loc[(df_sampled['time'] == datetime(2021, 12, 3, 18, 0, 0, 0, tzinfo=timezone.utc).isoformat(sep=' '))])\n"
   ]
  },
  {
   "cell_type": "code",
   "execution_count": null,
   "metadata": {},
   "outputs": [],
   "source": []
  },
  {
   "cell_type": "code",
   "execution_count": null,
   "metadata": {},
   "outputs": [],
   "source": []
  },
  {
   "cell_type": "code",
   "execution_count": null,
   "metadata": {},
   "outputs": [],
   "source": []
  },
  {
   "cell_type": "code",
   "execution_count": null,
   "metadata": {},
   "outputs": [],
   "source": []
  }
 ],
 "metadata": {
  "kernelspec": {
   "display_name": "Python 3",
   "language": "python",
   "name": "python3"
  },
  "language_info": {
   "codemirror_mode": {
    "name": "ipython",
    "version": 3
   },
   "file_extension": ".py",
   "mimetype": "text/x-python",
   "name": "python",
   "nbconvert_exporter": "python",
   "pygments_lexer": "ipython3",
   "version": "3.7.3"
  }
 },
 "nbformat": 4,
 "nbformat_minor": 4
}
